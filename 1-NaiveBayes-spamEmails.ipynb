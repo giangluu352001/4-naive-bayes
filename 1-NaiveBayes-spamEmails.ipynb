{
 "cells": [
  {
   "cell_type": "markdown",
   "metadata": {
    "colab_type": "text",
    "id": "bCU8xODGloaP"
   },
   "source": [
    "#  Spam classification with Naive Bayes"
   ]
  },
  {
   "cell_type": "markdown",
   "metadata": {
    "colab_type": "text",
    "id": "G8pJBTNuloaR"
   },
   "source": [
    "## Importing Libraries"
   ]
  },
  {
   "cell_type": "code",
   "execution_count": 42,
   "metadata": {
    "colab": {},
    "colab_type": "code",
    "id": "FjP6m4uGloaS"
   },
   "outputs": [],
   "source": [
    "import numpy as np\n",
    "from sklearn import feature_extraction, model_selection, naive_bayes, metrics\n",
    "import os, re, nltk\n",
    "import pandas as pd\n",
    "from nltk.corpus import stopwords\n",
    "from sklearn.model_selection import train_test_split\n",
    "from sklearn.feature_extraction.text import TfidfVectorizer"
   ]
  },
  {
   "cell_type": "code",
   "execution_count": 94,
   "metadata": {},
   "outputs": [],
   "source": [
    "class Email:\n",
    "    def __init__(self, content, label):\n",
    "        self.content = content\n",
    "        self.label = label\n",
    "        self.preprocessing()\n",
    "\n",
    "    def preprocessing(self):\n",
    "        self.content = self.content.lower()\n",
    "        for word in stopwords.words('english'):\n",
    "            self.content = re.sub(' ' + word + ' ',  ' ', self.content)\n",
    "        self.content = re.sub(r'\\n', ' ', self.content)\n",
    "        self.content = re.sub(r'^.+@[^\\.].*\\.[a-z]{2,}$', 'MailID', self.content)\n",
    "        self.content = re.sub(r'^http\\://[a-zA-Z0-9\\-\\.]+\\.[a-zA-Z]{2,3}(/\\S*)?$', 'Links', self.content)\n",
    "        self.content = re.sub(r'\\d+(\\.\\d+)?', 'numbers', self.content)\n",
    "        self.content = re.sub(r\"[^a-zA-Z0-9]+\", \" \", self.content)\n",
    "        self.content = re.sub(r'\\s+', ' ', self.content)\n",
    "        self.content = self.content.strip()\n",
    "\n",
    "    @staticmethod\n",
    "    def read():\n",
    "        if not os.path.exists('messages.csv'):\n",
    "            return []\n",
    "        df = pd.read_csv('messages.csv').dropna()\n",
    "        return list(map(lambda data: Email(data[0], data[1]), zip(df['subject'] + df['message'], df['label'])))\n",
    "\n",
    "    @staticmethod\n",
    "    def readTrainTestSplit():\n",
    "        data = Email.read()\n",
    "        df = pd.DataFrame()\n",
    "        df['message'] = [email.content for email in data]\n",
    "        vector=TfidfVectorizer()\n",
    "        \n",
    "        df['label'] = [email.label for email in data]\n",
    "        return train_test_split(vector.fit_transform(df['message']), df['label'], test_size=0.2, random_state=225, stratify=df['label'])\n",
    "X_train, X_test, Y_train, Y_test = Email.readTrainTestSplit()        \n"
   ]
  },
  {
   "cell_type": "code",
   "execution_count": 77,
   "metadata": {},
   "outputs": [],
   "source": [
    "class Email:\n",
    "    def __init__(self, content, isSpam):\n",
    "        self.content = content\n",
    "        self.isSpam = int(isSpam) == 1\n",
    "        self.preprocessing()\n",
    "\n",
    "    def preprocessing(self):\n",
    "        self.content = self.content.lower()\n",
    "        print(self.content)\n",
    "        for word in stopwords.words('english'):\n",
    "            self.content = re.sub(' ' + word + ' ',  ' ', self.content)\n",
    "        self.content = re.sub(r'\\n', ' ', self.content)\n",
    "        self.content = re.sub(r'^.+@[^\\.].*\\.[a-z]{2,}$', 'MailID', self.content)\n",
    "        self.content = re.sub(r'^http\\://[a-zA-Z0-9\\-\\.]+\\.[a-zA-Z]{2,3}(/\\S*)?$', 'Links', self.content)\n",
    "        self.content = re.sub(r'\\d+(\\.\\d+)?', 'numbers', self.content)\n",
    "        self.content = re.sub(r\"[^a-zA-Z0-9]+\", \" \", self.content)\n",
    "        self.content = re.sub(r'\\s+', ' ', self.content)\n",
    "        self.content = self.content.strip()\n",
    "\n",
    "    @staticmethod\n",
    "    def read():\n",
    "        if not os.path.exists('./data/messages.csv'):\n",
    "            return []\n",
    "        df = pd.read_csv('./data/messages.csv').dropna()\n",
    "        return list(map(lambda data: Email(data[0], data[1]), zip(df['subject'] + df['message'], df['label'])))\n",
    "data = Email.read()"
   ]
  },
  {
   "cell_type": "code",
   "execution_count": null,
   "metadata": {},
   "outputs": [],
   "source": [
    "print(data)"
   ]
  },
  {
   "cell_type": "code",
   "execution_count": 108,
   "metadata": {},
   "outputs": [],
   "source": [
    "f = feature_extraction.text.CountVectorizer()\n",
    "X = [dataset.content for dataset in data]\n",
    "X = f.fit_transform(X)\n",
    "y = [dataset.label for dataset in data]\n"
   ]
  },
  {
   "cell_type": "code",
   "execution_count": 112,
   "metadata": {},
   "outputs": [
    {
     "name": "stdout",
     "output_type": "stream",
     "text": [
      "  (0, 25695)\t1\n",
      "  (0, 39159)\t1\n",
      "  (0, 2687)\t5\n",
      "  (0, 25028)\t4\n",
      "  (0, 42363)\t6\n",
      "  (0, 7732)\t1\n",
      "  (0, 28501)\t1\n",
      "  (0, 35032)\t13\n",
      "  (0, 7731)\t3\n",
      "  (0, 52768)\t2\n",
      "  (0, 32063)\t1\n",
      "  (0, 25748)\t1\n",
      "  (0, 53312)\t1\n",
      "  (0, 9608)\t1\n",
      "  (0, 23523)\t1\n",
      "  (0, 24214)\t2\n",
      "  (0, 49016)\t2\n",
      "  (0, 44559)\t2\n",
      "  (0, 33731)\t2\n",
      "  (0, 52395)\t2\n",
      "  (0, 45970)\t4\n",
      "  (0, 29483)\t2\n",
      "  (0, 29627)\t2\n",
      "  (0, 45028)\t1\n",
      "  (0, 47029)\t5\n",
      "  :\t:\n",
      "  (0, 45014)\t1\n",
      "  (0, 9488)\t1\n",
      "  (0, 42545)\t1\n",
      "  (0, 15198)\t1\n",
      "  (0, 37926)\t1\n",
      "  (0, 37292)\t1\n",
      "  (0, 40730)\t1\n",
      "  (0, 10131)\t1\n",
      "  (0, 49597)\t1\n",
      "  (0, 35028)\t1\n",
      "  (0, 33111)\t1\n",
      "  (0, 25469)\t1\n",
      "  (0, 29816)\t1\n",
      "  (0, 28320)\t1\n",
      "  (0, 30412)\t1\n",
      "  (0, 21582)\t1\n",
      "  (0, 33231)\t1\n",
      "  (0, 26550)\t1\n",
      "  (0, 49804)\t1\n",
      "  (0, 49566)\t1\n",
      "  (0, 17119)\t1\n",
      "  (0, 14984)\t1\n",
      "  (0, 25661)\t1\n",
      "  (0, 35482)\t1\n",
      "  (0, 45298)\t1\n"
     ]
    }
   ],
   "source": [
    "print(X[0])"
   ]
  },
  {
   "cell_type": "code",
   "execution_count": 109,
   "metadata": {},
   "outputs": [
    {
     "name": "stdout",
     "output_type": "stream",
     "text": [
      "[(2264, 56283), (567, 56283)]\n",
      "(567, 56283)\n"
     ]
    }
   ],
   "source": [
    "#split training/test set\n",
    "X_train, X_test, y_train, y_test = model_selection.train_test_split(X, y, test_size=0.2, random_state=42)\n",
    "print([np.shape(X_train), np.shape(X_test)])\n",
    "print(X_test.shape)"
   ]
  },
  {
   "cell_type": "markdown",
   "metadata": {
    "colab_type": "text",
    "id": "aIwNBg4jlobK"
   },
   "source": [
    "### Multinomial naive bayes classifier"
   ]
  },
  {
   "cell_type": "markdown",
   "metadata": {
    "colab_type": "text",
    "id": "OQA_YQoHlobN"
   },
   "source": [
    "We train different bayes models changing the regularization parameter $\\alpha$. <p>"
   ]
  },
  {
   "cell_type": "code",
   "execution_count": 111,
   "metadata": {
    "colab": {},
    "colab_type": "code",
    "id": "MiOCHp-GlobN"
   },
   "outputs": [],
   "source": [
    "# Chọn alpha\n",
    "list_alpha = np.arange(1/100000, 20, 0.1)\n",
    "score_train = np.zeros(len(list_alpha))\n",
    "score_test = np.zeros(len(list_alpha))\n",
    "recall_test = np.zeros(len(list_alpha))\n",
    "precision_test= np.zeros(len(list_alpha))\n",
    "count = 0\n",
    "for alpha in list_alpha:\n",
    "    bayes = naive_bayes.MultinomialNB(alpha=alpha)\n",
    "    bayes.fit(X_train, y_train)\n",
    "    score_train[count] = bayes.score(X_train, y_train)\n",
    "    score_test[count]= bayes.score(X_test, y_test)\n",
    "    recall_test[count] = metrics.recall_score(y_test, bayes.predict(X_test))\n",
    "    precision_test[count] = metrics.precision_score(y_test, bayes.predict(X_test))\n",
    "    count = count + 1 "
   ]
  },
  {
   "cell_type": "markdown",
   "metadata": {
    "colab_type": "text",
    "id": "WGmr2jjrlobQ"
   },
   "source": [
    "Let's see the first 10 learning models and their metrics!"
   ]
  },
  {
   "cell_type": "code",
   "execution_count": 106,
   "metadata": {
    "colab": {
     "base_uri": "https://localhost:8080/",
     "height": 359
    },
    "colab_type": "code",
    "executionInfo": {
     "elapsed": 586,
     "status": "ok",
     "timestamp": 1522028634531,
     "user": {
      "displayName": "THUAN LE DINH",
      "photoUrl": "https://lh3.googleusercontent.com/a/default-user=s128",
      "userId": "112382990335944671707"
     },
     "user_tz": -420
    },
    "id": "gvkbsGPVlobQ",
    "outputId": "8393b825-b3c6-4150-b2ee-78cca293083d"
   },
   "outputs": [
    {
     "data": {
      "text/html": [
       "<div>\n",
       "<style scoped>\n",
       "    .dataframe tbody tr th:only-of-type {\n",
       "        vertical-align: middle;\n",
       "    }\n",
       "\n",
       "    .dataframe tbody tr th {\n",
       "        vertical-align: top;\n",
       "    }\n",
       "\n",
       "    .dataframe thead th {\n",
       "        text-align: right;\n",
       "    }\n",
       "</style>\n",
       "<table border=\"1\" class=\"dataframe\">\n",
       "  <thead>\n",
       "    <tr style=\"text-align: right;\">\n",
       "      <th></th>\n",
       "      <th>alpha</th>\n",
       "      <th>Train Accuracy</th>\n",
       "      <th>Test Accuracy</th>\n",
       "      <th>Test Recall</th>\n",
       "      <th>Test Precision</th>\n",
       "    </tr>\n",
       "  </thead>\n",
       "  <tbody>\n",
       "    <tr>\n",
       "      <th>0</th>\n",
       "      <td>0.00001</td>\n",
       "      <td>1.000000</td>\n",
       "      <td>0.998236</td>\n",
       "      <td>0.989362</td>\n",
       "      <td>1.000000</td>\n",
       "    </tr>\n",
       "    <tr>\n",
       "      <th>1</th>\n",
       "      <td>0.10001</td>\n",
       "      <td>0.999117</td>\n",
       "      <td>0.992945</td>\n",
       "      <td>0.978723</td>\n",
       "      <td>0.978723</td>\n",
       "    </tr>\n",
       "    <tr>\n",
       "      <th>2</th>\n",
       "      <td>0.20001</td>\n",
       "      <td>0.996466</td>\n",
       "      <td>0.987654</td>\n",
       "      <td>0.936170</td>\n",
       "      <td>0.988764</td>\n",
       "    </tr>\n",
       "    <tr>\n",
       "      <th>3</th>\n",
       "      <td>0.30001</td>\n",
       "      <td>0.991608</td>\n",
       "      <td>0.977072</td>\n",
       "      <td>0.861702</td>\n",
       "      <td>1.000000</td>\n",
       "    </tr>\n",
       "    <tr>\n",
       "      <th>4</th>\n",
       "      <td>0.40001</td>\n",
       "      <td>0.976590</td>\n",
       "      <td>0.952381</td>\n",
       "      <td>0.712766</td>\n",
       "      <td>1.000000</td>\n",
       "    </tr>\n",
       "    <tr>\n",
       "      <th>5</th>\n",
       "      <td>0.50001</td>\n",
       "      <td>0.957155</td>\n",
       "      <td>0.932981</td>\n",
       "      <td>0.595745</td>\n",
       "      <td>1.000000</td>\n",
       "    </tr>\n",
       "    <tr>\n",
       "      <th>6</th>\n",
       "      <td>0.60001</td>\n",
       "      <td>0.940813</td>\n",
       "      <td>0.913580</td>\n",
       "      <td>0.478723</td>\n",
       "      <td>1.000000</td>\n",
       "    </tr>\n",
       "    <tr>\n",
       "      <th>7</th>\n",
       "      <td>0.70001</td>\n",
       "      <td>0.920936</td>\n",
       "      <td>0.895944</td>\n",
       "      <td>0.372340</td>\n",
       "      <td>1.000000</td>\n",
       "    </tr>\n",
       "    <tr>\n",
       "      <th>8</th>\n",
       "      <td>0.80001</td>\n",
       "      <td>0.904594</td>\n",
       "      <td>0.881834</td>\n",
       "      <td>0.287234</td>\n",
       "      <td>1.000000</td>\n",
       "    </tr>\n",
       "    <tr>\n",
       "      <th>9</th>\n",
       "      <td>0.90001</td>\n",
       "      <td>0.890459</td>\n",
       "      <td>0.880071</td>\n",
       "      <td>0.276596</td>\n",
       "      <td>1.000000</td>\n",
       "    </tr>\n",
       "  </tbody>\n",
       "</table>\n",
       "</div>"
      ],
      "text/plain": [
       "     alpha  Train Accuracy  Test Accuracy  Test Recall  Test Precision\n",
       "0  0.00001        1.000000       0.998236     0.989362        1.000000\n",
       "1  0.10001        0.999117       0.992945     0.978723        0.978723\n",
       "2  0.20001        0.996466       0.987654     0.936170        0.988764\n",
       "3  0.30001        0.991608       0.977072     0.861702        1.000000\n",
       "4  0.40001        0.976590       0.952381     0.712766        1.000000\n",
       "5  0.50001        0.957155       0.932981     0.595745        1.000000\n",
       "6  0.60001        0.940813       0.913580     0.478723        1.000000\n",
       "7  0.70001        0.920936       0.895944     0.372340        1.000000\n",
       "8  0.80001        0.904594       0.881834     0.287234        1.000000\n",
       "9  0.90001        0.890459       0.880071     0.276596        1.000000"
      ]
     },
     "execution_count": 106,
     "metadata": {},
     "output_type": "execute_result"
    }
   ],
   "source": [
    "matrix = np.matrix(np.c_[list_alpha, score_train, score_test, recall_test, precision_test])\n",
    "models = pd.DataFrame(data = matrix, columns = \n",
    "             ['alpha', 'Train Accuracy', 'Test Accuracy', 'Test Recall', 'Test Precision'])\n",
    "models.head(n=10)"
   ]
  },
  {
   "cell_type": "markdown",
   "metadata": {
    "colab_type": "text",
    "id": "5LGWFi3ClobV"
   },
   "source": [
    "I select the model with the most test precision"
   ]
  },
  {
   "cell_type": "code",
   "execution_count": 107,
   "metadata": {
    "colab": {
     "base_uri": "https://localhost:8080/",
     "height": 119
    },
    "colab_type": "code",
    "executionInfo": {
     "elapsed": 551,
     "status": "ok",
     "timestamp": 1522028635330,
     "user": {
      "displayName": "THUAN LE DINH",
      "photoUrl": "https://lh3.googleusercontent.com/a/default-user=s128",
      "userId": "112382990335944671707"
     },
     "user_tz": -420
    },
    "id": "EhSjVn03lobW",
    "outputId": "31d18ae3-ef9d-4dc3-a4ff-234a6e55c30f"
   },
   "outputs": [
    {
     "data": {
      "text/plain": [
       "alpha             0.000010\n",
       "Train Accuracy    1.000000\n",
       "Test Accuracy     0.998236\n",
       "Test Recall       0.989362\n",
       "Test Precision    1.000000\n",
       "Name: 0, dtype: float64"
      ]
     },
     "execution_count": 107,
     "metadata": {},
     "output_type": "execute_result"
    }
   ],
   "source": [
    "best_index = models['Test Precision'].idxmax()\n",
    "models.iloc[best_index, :]"
   ]
  },
  {
   "cell_type": "markdown",
   "metadata": {
    "colab_type": "text",
    "id": "pkJuzAIzlobb"
   },
   "source": [
    "**My best model does not produce any false positive, which is our goal.** <p>\n",
    "Let's see if there is more than one model with 100% precision !"
   ]
  },
  {
   "cell_type": "code",
   "execution_count": 100,
   "metadata": {
    "colab": {
     "base_uri": "https://localhost:8080/",
     "height": 204
    },
    "colab_type": "code",
    "executionInfo": {
     "elapsed": 556,
     "status": "ok",
     "timestamp": 1522028636108,
     "user": {
      "displayName": "THUAN LE DINH",
      "photoUrl": "https://lh3.googleusercontent.com/a/default-user=s128",
      "userId": "112382990335944671707"
     },
     "user_tz": -420
    },
    "id": "GjZAho5zlobc",
    "outputId": "fd3ecfb4-f35a-4646-90a4-2b1e138a1dc1"
   },
   "outputs": [
    {
     "data": {
      "text/html": [
       "<div>\n",
       "<style scoped>\n",
       "    .dataframe tbody tr th:only-of-type {\n",
       "        vertical-align: middle;\n",
       "    }\n",
       "\n",
       "    .dataframe tbody tr th {\n",
       "        vertical-align: top;\n",
       "    }\n",
       "\n",
       "    .dataframe thead th {\n",
       "        text-align: right;\n",
       "    }\n",
       "</style>\n",
       "<table border=\"1\" class=\"dataframe\">\n",
       "  <thead>\n",
       "    <tr style=\"text-align: right;\">\n",
       "      <th></th>\n",
       "      <th>alpha</th>\n",
       "      <th>Train Accuracy</th>\n",
       "      <th>Test Accuracy</th>\n",
       "      <th>Test Recall</th>\n",
       "      <th>Test Precision</th>\n",
       "    </tr>\n",
       "  </thead>\n",
       "  <tbody>\n",
       "    <tr>\n",
       "      <th>0</th>\n",
       "      <td>0.00001</td>\n",
       "      <td>1.000000</td>\n",
       "      <td>0.998236</td>\n",
       "      <td>0.989362</td>\n",
       "      <td>1.0</td>\n",
       "    </tr>\n",
       "    <tr>\n",
       "      <th>3</th>\n",
       "      <td>0.30001</td>\n",
       "      <td>0.991608</td>\n",
       "      <td>0.977072</td>\n",
       "      <td>0.861702</td>\n",
       "      <td>1.0</td>\n",
       "    </tr>\n",
       "    <tr>\n",
       "      <th>4</th>\n",
       "      <td>0.40001</td>\n",
       "      <td>0.976590</td>\n",
       "      <td>0.952381</td>\n",
       "      <td>0.712766</td>\n",
       "      <td>1.0</td>\n",
       "    </tr>\n",
       "    <tr>\n",
       "      <th>5</th>\n",
       "      <td>0.50001</td>\n",
       "      <td>0.957155</td>\n",
       "      <td>0.932981</td>\n",
       "      <td>0.595745</td>\n",
       "      <td>1.0</td>\n",
       "    </tr>\n",
       "    <tr>\n",
       "      <th>6</th>\n",
       "      <td>0.60001</td>\n",
       "      <td>0.940813</td>\n",
       "      <td>0.913580</td>\n",
       "      <td>0.478723</td>\n",
       "      <td>1.0</td>\n",
       "    </tr>\n",
       "    <tr>\n",
       "      <th>7</th>\n",
       "      <td>0.70001</td>\n",
       "      <td>0.920936</td>\n",
       "      <td>0.895944</td>\n",
       "      <td>0.372340</td>\n",
       "      <td>1.0</td>\n",
       "    </tr>\n",
       "    <tr>\n",
       "      <th>8</th>\n",
       "      <td>0.80001</td>\n",
       "      <td>0.904594</td>\n",
       "      <td>0.881834</td>\n",
       "      <td>0.287234</td>\n",
       "      <td>1.0</td>\n",
       "    </tr>\n",
       "    <tr>\n",
       "      <th>9</th>\n",
       "      <td>0.90001</td>\n",
       "      <td>0.890459</td>\n",
       "      <td>0.880071</td>\n",
       "      <td>0.276596</td>\n",
       "      <td>1.0</td>\n",
       "    </tr>\n",
       "    <tr>\n",
       "      <th>10</th>\n",
       "      <td>1.00001</td>\n",
       "      <td>0.878534</td>\n",
       "      <td>0.865961</td>\n",
       "      <td>0.191489</td>\n",
       "      <td>1.0</td>\n",
       "    </tr>\n",
       "    <tr>\n",
       "      <th>11</th>\n",
       "      <td>1.10001</td>\n",
       "      <td>0.870141</td>\n",
       "      <td>0.858907</td>\n",
       "      <td>0.148936</td>\n",
       "      <td>1.0</td>\n",
       "    </tr>\n",
       "  </tbody>\n",
       "</table>\n",
       "</div>"
      ],
      "text/plain": [
       "      alpha  Train Accuracy  Test Accuracy  Test Recall  Test Precision\n",
       "0   0.00001        1.000000       0.998236     0.989362             1.0\n",
       "3   0.30001        0.991608       0.977072     0.861702             1.0\n",
       "4   0.40001        0.976590       0.952381     0.712766             1.0\n",
       "5   0.50001        0.957155       0.932981     0.595745             1.0\n",
       "6   0.60001        0.940813       0.913580     0.478723             1.0\n",
       "7   0.70001        0.920936       0.895944     0.372340             1.0\n",
       "8   0.80001        0.904594       0.881834     0.287234             1.0\n",
       "9   0.90001        0.890459       0.880071     0.276596             1.0\n",
       "10  1.00001        0.878534       0.865961     0.191489             1.0\n",
       "11  1.10001        0.870141       0.858907     0.148936             1.0"
      ]
     },
     "execution_count": 100,
     "metadata": {},
     "output_type": "execute_result"
    }
   ],
   "source": [
    "models[models['Test Precision']==1].head(n=10)"
   ]
  },
  {
   "cell_type": "markdown",
   "metadata": {
    "colab_type": "text",
    "id": "GVIkYZaZlobg"
   },
   "source": [
    "Between these models with the highest possible precision, we are going to select which has more test accuracy."
   ]
  },
  {
   "cell_type": "code",
   "execution_count": 101,
   "metadata": {
    "colab": {
     "base_uri": "https://localhost:8080/",
     "height": 119
    },
    "colab_type": "code",
    "executionInfo": {
     "elapsed": 601,
     "status": "ok",
     "timestamp": 1522028636924,
     "user": {
      "displayName": "THUAN LE DINH",
      "photoUrl": "https://lh3.googleusercontent.com/a/default-user=s128",
      "userId": "112382990335944671707"
     },
     "user_tz": -420
    },
    "id": "mieHlO2olobg",
    "outputId": "de19a906-cb41-463a-aceb-b950eb680a6e"
   },
   "outputs": [
    {
     "data": {
      "text/plain": [
       "alpha             0.000010\n",
       "Train Accuracy    1.000000\n",
       "Test Accuracy     0.998236\n",
       "Test Recall       0.989362\n",
       "Test Precision    1.000000\n",
       "Name: 0, dtype: float64"
      ]
     },
     "execution_count": 101,
     "metadata": {},
     "output_type": "execute_result"
    }
   ],
   "source": [
    "best_index = models[models['Test Precision']==1]['Test Accuracy'].idxmax()\n",
    "bayes = naive_bayes.MultinomialNB(alpha=list_alpha[best_index])\n",
    "bayes.fit(X_train, Y_train)\n",
    "models.iloc[best_index, :]"
   ]
  },
  {
   "cell_type": "markdown",
   "metadata": {
    "colab_type": "text",
    "id": "3ggGjKQMlobk"
   },
   "source": [
    "#### Confusion matrix with naive bayes classifier"
   ]
  },
  {
   "cell_type": "code",
   "execution_count": 103,
   "metadata": {
    "colab": {
     "base_uri": "https://localhost:8080/",
     "height": 111
    },
    "colab_type": "code",
    "executionInfo": {
     "elapsed": 550,
     "status": "ok",
     "timestamp": 1522028637703,
     "user": {
      "displayName": "THUAN LE DINH",
      "photoUrl": "https://lh3.googleusercontent.com/a/default-user=s128",
      "userId": "112382990335944671707"
     },
     "user_tz": -420
    },
    "id": "oYdoQD0Jlobk",
    "outputId": "087a2c13-f1f0-4fd3-cf51-b88b7ac7d689",
    "scrolled": true
   },
   "outputs": [
    {
     "data": {
      "text/html": [
       "<div>\n",
       "<style scoped>\n",
       "    .dataframe tbody tr th:only-of-type {\n",
       "        vertical-align: middle;\n",
       "    }\n",
       "\n",
       "    .dataframe tbody tr th {\n",
       "        vertical-align: top;\n",
       "    }\n",
       "\n",
       "    .dataframe thead th {\n",
       "        text-align: right;\n",
       "    }\n",
       "</style>\n",
       "<table border=\"1\" class=\"dataframe\">\n",
       "  <thead>\n",
       "    <tr style=\"text-align: right;\">\n",
       "      <th></th>\n",
       "      <th>Predicted 0</th>\n",
       "      <th>Predicted 1</th>\n",
       "    </tr>\n",
       "  </thead>\n",
       "  <tbody>\n",
       "    <tr>\n",
       "      <th>Actual 0</th>\n",
       "      <td>444</td>\n",
       "      <td>26</td>\n",
       "    </tr>\n",
       "    <tr>\n",
       "      <th>Actual 1</th>\n",
       "      <td>92</td>\n",
       "      <td>5</td>\n",
       "    </tr>\n",
       "  </tbody>\n",
       "</table>\n",
       "</div>"
      ],
      "text/plain": [
       "          Predicted 0  Predicted 1\n",
       "Actual 0          444           26\n",
       "Actual 1           92            5"
      ]
     },
     "execution_count": 103,
     "metadata": {},
     "output_type": "execute_result"
    }
   ],
   "source": [
    "m_confusion_test = metrics.confusion_matrix(Y_test, bayes.predict(X_test))\n",
    "pd.DataFrame(data = m_confusion_test, columns = ['Predicted 0', 'Predicted 1'],\n",
    "            index = ['Actual 0', 'Actual 1'])\n",
    "#print(X_test.shape)"
   ]
  }
 ],
 "metadata": {
  "colab": {
   "name": "NaiveBayes_v2.ipynb",
   "provenance": [],
   "version": "0.3.2"
  },
  "interpreter": {
   "hash": "be42d3b7d33bf1ca370512468bda31fcbc52f20f0a87b28b683cd8642f58b590"
  },
  "kernelspec": {
   "display_name": "Python 3.9.5 64-bit",
   "name": "python3"
  },
  "language_info": {
   "codemirror_mode": {
    "name": "ipython",
    "version": 3
   },
   "file_extension": ".py",
   "mimetype": "text/x-python",
   "name": "python",
   "nbconvert_exporter": "python",
   "pygments_lexer": "ipython3",
   "version": "3.9.7"
  }
 },
 "nbformat": 4,
 "nbformat_minor": 1
}
